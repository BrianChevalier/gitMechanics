{
 "cells": [
  {
   "cell_type": "markdown",
   "metadata": {},
   "source": [
    "### Basic Object Methods\n",
    "\n",
    "| Called | Method |\n",
    "| :-- | :-- |\n",
    "| `obj = Object()` | `__init__(self[, ...])` |\n",
    "| `str()` | `__str__(self)` |\n",
    "|`repr()`| `__repr__(self)`|"
   ]
  },
  {
   "cell_type": "code",
   "execution_count": 1,
   "metadata": {},
   "outputs": [
    {
     "name": "stdout",
     "output_type": "stream",
     "text": [
      "1\n"
     ]
    }
   ],
   "source": [
    "class Object:\n",
    "    \n",
    "    def __init__(self, x):\n",
    "        self.x = x\n",
    "    \n",
    "    def __str__(self):\n",
    "        return f'{self.x}'\n",
    "    \n",
    "obj = Object(1)\n",
    "print(obj)"
   ]
  },
  {
   "cell_type": "markdown",
   "metadata": {},
   "source": [
    "### Emulating Callable Types\n",
    "\n",
    "| Called | Method |\n",
    "| :-- | :-- |\n",
    "|on object call `obj()`| `__call__(self [,args...])`|"
   ]
  },
  {
   "cell_type": "markdown",
   "metadata": {},
   "source": [
    "### Emulating Numeric Types\n",
    "| Called | Method |\n",
    "| :-- | :-- |\n",
    "|`+`| `__add__(self, other)`|\n",
    "|`-`| `__sub__(self, other)`|\n",
    "|`*`| `__mul__(self, other)`|\n",
    "|`@`| `__matmul__(self, other)`|\n",
    "|`/`| `__truediv__(self, other)`|\n",
    "|`//`| `__floordiv__(self, other)`|\n",
    "|`%`| `__mod__(self, other)`|\n",
    "|`**`| `__pow__(self, other[, modulo])`|\n",
    "|`<<`| `__lshift__(self, other)`|\n",
    "|`>>`| `__rshift__(self, other)`|"
   ]
  },
  {
   "cell_type": "markdown",
   "metadata": {},
   "source": [
    "### Extended Assignments\n",
    "\n",
    "| Called | Method |\n",
    "| :-- | :-- |\n",
    "|`+=`| `__iadd__(self, other)`|\n",
    "|`-=`| `__isub__(self, other)`|\n",
    "|`*=`| `__imul__(self, other)`|\n",
    "|`@=`| `__imatmul__(self, other)`|\n",
    "|`/=`| `__itruediv__(self, other)`|\n",
    "|`//=`| `__ifloordiv__(self, other)`|\n",
    "|`%=`| `__imod__(self, other)`|\n",
    "|`**=`| `__ipow__(self, other[, modulo])`|\n",
    "|`<<=`| `__ilshift__(self, other)`|\n",
    "|`>>=`| `__irshift__(self, other)`|"
   ]
  },
  {
   "cell_type": "markdown",
   "metadata": {},
   "source": [
    "### Comparison Operators\n",
    "\n",
    "| Called | Method |\n",
    "| :-- | :-- |\n",
    "|`<`| `__lt__(self, other)`|\n",
    "|`<=`| `__le__(self, other)`|\n",
    "|`==`| `__eq__(self, other)`|\n",
    "|`!=`| `__ne__(self, other)`|\n",
    "|`>`| `__ge__(self, other)`|\n",
    "|`>=`| `__gt__(self, other)`|"
   ]
  },
  {
   "cell_type": "markdown",
   "metadata": {},
   "source": [
    "### Context Managers\n",
    "\n",
    "| Called | Method |\n",
    "| :-- | :-- |\n",
    "| on enter | `__enter__(self)` |\n",
    "| on exit | `__exit__(self, exc_type, exc_value, traceback)` |"
   ]
  },
  {
   "cell_type": "code",
   "execution_count": 2,
   "metadata": {},
   "outputs": [
    {
     "name": "stdout",
     "output_type": "stream",
     "text": [
      "enter\n",
      "exit\n"
     ]
    }
   ],
   "source": [
    "class ManagedObject:\n",
    "    \n",
    "    def __enter__(self):\n",
    "        print('enter')\n",
    "    \n",
    "    def __exit__(self, exc_type, exc_value, traceback):\n",
    "        print('exit')\n",
    "\n",
    "with ManagedObject():\n",
    "    pass"
   ]
  },
  {
   "cell_type": "markdown",
   "metadata": {},
   "source": [
    "[1]: https://docs.python.org/3/reference/datamodel.html"
   ]
  },
  {
   "cell_type": "code",
   "execution_count": null,
   "metadata": {},
   "outputs": [],
   "source": []
  }
 ],
 "metadata": {
  "kernelspec": {
   "display_name": "Python 3",
   "language": "python",
   "name": "python3"
  },
  "language_info": {
   "codemirror_mode": {
    "name": "ipython",
    "version": 3
   },
   "file_extension": ".py",
   "mimetype": "text/x-python",
   "name": "python",
   "nbconvert_exporter": "python",
   "pygments_lexer": "ipython3",
   "version": "3.6.8"
  }
 },
 "nbformat": 4,
 "nbformat_minor": 2
}
