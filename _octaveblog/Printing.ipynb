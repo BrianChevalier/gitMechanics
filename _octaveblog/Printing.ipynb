{
 "cells": [
  {
   "cell_type": "raw",
   "metadata": {},
   "source": [
    "---\n",
    "title: Printing\n",
    "---"
   ]
  },
  {
   "cell_type": "markdown",
   "metadata": {},
   "source": [
    "Printing can be confusing with GNU Octave/MATLAB. In this post we'll take a look at how to print using the `fprintf` command."
   ]
  },
  {
   "cell_type": "markdown",
   "metadata": {},
   "source": [
    "### What is `fprintf`\n",
    "`fprintf` is a command to print formatted text to the command window, using a 'formmating string' (also known as a format specification) provided by the programmer. This allows full control over how data will be printed, but requires some understanding on how to write a formatting string."
   ]
  },
  {
   "cell_type": "markdown",
   "metadata": {},
   "source": [
    "### Data Types\n",
    "There are a few critical data types you need to know about to understand how to print. The following table will define the types we will need to be familiar with. This is important in order to print we have to format the data that we have.\n",
    "\n",
    "\n",
    "| Type   | Meaning                | Example       | Format Letter |\n",
    "|---     |---                     |---            |---            |\n",
    "| Ineger | Whole Number           | 53            | `i`           |\n",
    "| Float  | Number with a decimal  | 3.14          | `f`           |\n",
    "| String | Text surrounded by `'` | 'Hello World!'| `s`           |"
   ]
  },
  {
   "cell_type": "markdown",
   "metadata": {},
   "source": [
    "### Control Characters\n",
    "\n",
    "The following characters are characters that produce some special format. For instance the `\\n` special character adds a newline. This is important to have because there is no way to add a newline within the format specification of a printing command directly.\n",
    "\n",
    "| Special Character | Control Character   |\n",
    "|---                |---                  |\n",
    "| Newline           | `\\n`                |\n",
    "| Tab               | `\\t`                |\n",
    "\n",
    "There are more but they are outside of the scope of this post. Check [here](https://www.mathworks.com/help/matlab/ref/fprintf.html#btf8xsy-1_sep_shared-formatSpec) for a complete list of formatting operators."
   ]
  },
  {
   "cell_type": "markdown",
   "metadata": {},
   "source": [
    "#### Example 1\n",
    "In the next example we will print out an integer followed by a newline. The format specification is the first string argument in the `fprintf` command below. The `%` means that the following characters are going to be replaced by a variable, and can provide some information on how that variable should be printed. So `%i` means that the first variable after the format specification will be an integer. It is followed by a newline special character."
   ]
  },
  {
   "cell_type": "code",
   "execution_count": 1,
   "metadata": {},
   "outputs": [
    {
     "name": "stdout",
     "output_type": "stream",
     "text": [
      "1\n"
     ]
    }
   ],
   "source": [
    "integer = 1;\n",
    "fprintf('%i\\n', integer)"
   ]
  },
  {
   "cell_type": "markdown",
   "metadata": {},
   "source": [
    "#### Example 2\n",
    "In the next example, we'll print a predefined string using a similar format:"
   ]
  },
  {
   "cell_type": "code",
   "execution_count": 2,
   "metadata": {},
   "outputs": [
    {
     "name": "stdout",
     "output_type": "stream",
     "text": [
      "This is a string!\n"
     ]
    }
   ],
   "source": [
    "string1 = 'This is a string!';\n",
    "fprintf('%s\\n', string1)"
   ]
  },
  {
   "cell_type": "markdown",
   "metadata": {},
   "source": [
    "#### Example 3\n",
    "Let's print a floating point number with a specified precision. We'll print the same floating point number three times, once with one decimal place, once with two decimal place, and once with three. The way that we acccomplish this is by specifying the number of digits before and after a decimal point. This is explained in the following table:\n",
    "\n",
    "| %  | 1  |  . | 1  | f  |\n",
    "| -- | -- | -- |--- | --- |\n",
    "|Special Character | 1 digit before the decimal| decimal | 1 digit after the decimal| Floating point number|"
   ]
  },
  {
   "cell_type": "code",
   "execution_count": 3,
   "metadata": {},
   "outputs": [
    {
     "name": "stdout",
     "output_type": "stream",
     "text": [
      "0.3\n",
      "0.33\n",
      "0.333\n"
     ]
    }
   ],
   "source": [
    "myFloat = 1/3;\n",
    "fprintf('%1.1f\\n', myFloat)\n",
    "fprintf('%1.2f\\n', myFloat)\n",
    "fprintf('%1.3f\\n', myFloat)"
   ]
  },
  {
   "cell_type": "markdown",
   "metadata": {},
   "source": [
    "#### Example 4\n",
    "Now, lets print a string and a floating point number. The format specification is defined by the variable `formatSpec`. The meaning of this is described below:\n",
    "\n",
    "| `%s` | `%3.3f` | `\\n`|\n",
    "| --- | --- | --- |\n",
    "| String| Float, 3 digits before the decimal, 3 after| Newline|\n"
   ]
  },
  {
   "cell_type": "code",
   "execution_count": 4,
   "metadata": {},
   "outputs": [
    {
     "name": "stdout",
     "output_type": "stream",
     "text": [
      "The answer is: 100.333\n"
     ]
    }
   ],
   "source": [
    "formatSpec = '%s%3.3f\\n';\n",
    "myString = 'The answer is: ';\n",
    "myFloatingPointNumber = 100 + 1/3;\n",
    "fprintf(formatSpec, myString, myFloatingPointNumber)"
   ]
  }
 ],
 "metadata": {
  "kernelspec": {
   "display_name": "Octave",
   "language": "octave",
   "name": "octave"
  },
  "language_info": {
   "file_extension": ".m",
   "help_links": [
    {
     "text": "GNU Octave",
     "url": "https://www.gnu.org/software/octave/support.html"
    },
    {
     "text": "Octave Kernel",
     "url": "https://github.com/Calysto/octave_kernel"
    },
    {
     "text": "MetaKernel Magics",
     "url": "https://github.com/calysto/metakernel/blob/master/metakernel/magics/README.md"
    }
   ],
   "mimetype": "text/x-octave",
   "name": "octave",
   "version": "5.1.0"
  },
  "varInspector": {
   "cols": {
    "lenName": 16,
    "lenType": 16,
    "lenVar": 40
   },
   "kernels_config": {
    "python": {
     "delete_cmd_postfix": "",
     "delete_cmd_prefix": "del ",
     "library": "var_list.py",
     "varRefreshCmd": "print(var_dic_list())"
    },
    "r": {
     "delete_cmd_postfix": ") ",
     "delete_cmd_prefix": "rm(",
     "library": "var_list.r",
     "varRefreshCmd": "cat(var_dic_list()) "
    }
   },
   "types_to_exclude": [
    "module",
    "function",
    "builtin_function_or_method",
    "instance",
    "_Feature"
   ],
   "window_display": false
  }
 },
 "nbformat": 4,
 "nbformat_minor": 2
}
